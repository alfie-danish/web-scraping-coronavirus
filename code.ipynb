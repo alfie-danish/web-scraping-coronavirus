{
 "cells": [
  {
   "cell_type": "markdown",
   "source": "# Web scraping Coronavirus data using Python + BeautifulSoup",
   "metadata": {
    "cell_id": "284848b578034f3eb1f97626b367b8bc",
    "tags": [],
    "deepnote_cell_type": "markdown",
    "deepnote_cell_height": 134
   }
  },
  {
   "cell_type": "code",
   "metadata": {
    "cell_id": "01166c5dbc394b0f97768a3aef437adb",
    "tags": [],
    "deepnote_to_be_reexecuted": false,
    "source_hash": "fb4b9a2d",
    "execution_start": 1652542848085,
    "execution_millis": 21991,
    "is_output_hidden": true,
    "deepnote_cell_type": "code",
    "deepnote_cell_height": 111.796875
   },
   "source": "pip install BeautifulSoup4",
   "execution_count": 1,
   "outputs": [
    {
     "name": "stdout",
     "text": "Collecting BeautifulSoup4\n  Downloading beautifulsoup4-4.11.1-py3-none-any.whl (128 kB)\n\u001b[K     |████████████████████████████████| 128 kB 4.5 MB/s \n\u001b[?25hCollecting soupsieve>1.2\n  Downloading soupsieve-2.3.2.post1-py3-none-any.whl (37 kB)\nInstalling collected packages: soupsieve, BeautifulSoup4\nSuccessfully installed BeautifulSoup4-4.11.1 soupsieve-2.3.2.post1\n\u001b[33mWARNING: You are using pip version 20.1.1; however, version 22.1 is available.\nYou should consider upgrading via the '/usr/local/bin/python -m pip install --upgrade pip' command.\u001b[0m\nNote: you may need to restart the kernel to use updated packages.\n",
     "output_type": "stream"
    }
   ]
  },
  {
   "cell_type": "code",
   "metadata": {
    "cell_id": "82d9af5fa4b341c99a3d71046b8051f6",
    "tags": [],
    "deepnote_to_be_reexecuted": false,
    "source_hash": "7b9c987e",
    "execution_start": 1652542891415,
    "execution_millis": 12366,
    "owner_user_id": "f1a0a146-6a90-4b0e-b57b-ea74fb3f8dbd",
    "deepnote_cell_type": "code",
    "deepnote_cell_height": 1104
   },
   "source": "# Import libraries\nimport requests\nimport pandas as pd\nfrom bs4 import BeautifulSoup as bs\n\n# Load webpage content\nwebsite = \"https://www.worldometers.info/coronavirus/\"\nresponse = requests.get(website)\n\n# Convert to a BS object\nsoup = bs(response.content, \"html.parser\")\n\n# Extract the table\ntable = soup.find_all('table', attrs={\"id\": \"main_table_countries_today\"})[0]\n\n# Scrape the table headers\nheaders = [element.text.strip() for element in table.find_all('th')]\n\n# Create the DF, input headers first\ndf = pd.DataFrame(columns = headers)\n\n# Scrape the table body row by row\nfor i in table.find_all('tr')[1:]:\n    row_data = i.find_all('td')\n    row = [tr.text for tr in row_data]\n    length = len(df)\n    df.loc[length] = row\n\ndf",
   "execution_count": 3,
   "outputs": [
    {
     "output_type": "execute_result",
     "execution_count": 3,
     "data": {
      "application/vnd.deepnote.dataframe.v3+json": {
       "column_count": 22,
       "row_count": 244,
       "columns": [
        {
         "name": "#",
         "dtype": "object",
         "stats": {
          "unique_count": 229,
          "nan_count": 0,
          "categories": [
           {
            "name": "",
            "count": 16
           },
           {
            "name": "1",
            "count": 1
           },
           {
            "name": "227 others",
            "count": 227
           }
          ]
         }
        },
        {
         "name": "Country,Other",
         "dtype": "object",
         "stats": {
          "unique_count": 237,
          "nan_count": 0,
          "categories": [
           {
            "name": "Total:",
            "count": 8
           },
           {
            "name": "\nNorth America\n",
            "count": 1
           },
           {
            "name": "235 others",
            "count": 235
           }
          ]
         }
        },
        {
         "name": "TotalCases",
         "dtype": "object",
         "stats": {
          "unique_count": 235,
          "nan_count": 0,
          "categories": [
           {
            "name": "99,584,072",
            "count": 2
           },
           {
            "name": "149,831,185",
            "count": 2
           },
           {
            "name": "233 others",
            "count": 240
           }
          ]
         }
        },
        {
         "name": "NewCases",
         "dtype": "object",
         "stats": {
          "unique_count": 43,
          "nan_count": 0,
          "categories": [
           {
            "name": "",
            "count": 190
           },
           {
            "name": "+89",
            "count": 3
           },
           {
            "name": "41 others",
            "count": 51
           }
          ]
         }
        },
        {
         "name": "TotalDeaths",
         "dtype": "object",
         "stats": {
          "unique_count": 219,
          "nan_count": 0,
          "categories": [
           {
            "name": " ",
            "count": 8
           },
           {
            "name": "1 ",
            "count": 3
           },
           {
            "name": "217 others",
            "count": 233
           }
          ]
         }
        },
        {
         "name": "NewDeaths",
         "dtype": "object",
         "stats": {
          "unique_count": 21,
          "nan_count": 0,
          "categories": [
           {
            "name": "",
            "count": 214
           },
           {
            "name": "+7",
            "count": 3
           },
           {
            "name": "19 others",
            "count": 27
           }
          ]
         }
        },
        {
         "name": "TotalRecovered",
         "dtype": "object",
         "stats": {
          "unique_count": 214,
          "nan_count": 0,
          "categories": [
           {
            "name": "N/A",
            "count": 22
           },
           {
            "name": "94,782,140",
            "count": 2
           },
           {
            "name": "212 others",
            "count": 220
           }
          ]
         }
        },
        {
         "name": "NewRecovered",
         "dtype": "object",
         "stats": {
          "unique_count": 42,
          "nan_count": 0,
          "categories": [
           {
            "name": "",
            "count": 176
           },
           {
            "name": "N/A",
            "count": 22
           },
           {
            "name": "40 others",
            "count": 46
           }
          ]
         }
        },
        {
         "name": "ActiveCases",
         "dtype": "object",
         "stats": {
          "unique_count": 200,
          "nan_count": 0,
          "categories": [
           {
            "name": "N/A",
            "count": 22
           },
           {
            "name": "0",
            "count": 10
           },
           {
            "name": "198 others",
            "count": 212
           }
          ]
         }
        },
        {
         "name": "Serious,Critical",
         "dtype": "object",
         "stats": {
          "unique_count": 90,
          "nan_count": 0,
          "categories": [
           {
            "name": "",
            "count": 82
           },
           {
            "name": "1",
            "count": 13
           },
           {
            "name": "88 others",
            "count": 149
           }
          ]
         }
        },
        {
         "name": "Tot Cases/1M pop",
         "dtype": "object",
         "stats": {
          "unique_count": 229,
          "nan_count": 0,
          "categories": [
           {
            "name": "",
            "count": 16
           },
           {
            "name": "66,780",
            "count": 1
           },
           {
            "name": "227 others",
            "count": 227
           }
          ]
         }
        },
        {
         "name": "Deaths/1M pop",
         "dtype": "object",
         "stats": {
          "unique_count": 207,
          "nan_count": 0,
          "categories": [
           {
            "name": "",
            "count": 24
           },
           {
            "name": "12",
            "count": 3
           },
           {
            "name": "205 others",
            "count": 217
           }
          ]
         }
        },
        {
         "name": "TotalTests",
         "dtype": "object",
         "stats": {
          "unique_count": 213,
          "nan_count": 0,
          "categories": [
           {
            "name": "",
            "count": 32
           },
           {
            "name": "1,016,652,419",
            "count": 1
           },
           {
            "name": "211 others",
            "count": 211
           }
          ]
         }
        },
        {
         "name": "Tests/\n1M pop",
         "dtype": "object",
         "stats": {
          "unique_count": 213,
          "nan_count": 0,
          "categories": [
           {
            "name": "",
            "count": 32
           },
           {
            "name": "3,038,299",
            "count": 1
           },
           {
            "name": "211 others",
            "count": 211
           }
          ]
         }
        },
        {
         "name": "Population",
         "dtype": "object",
         "stats": {
          "unique_count": 228,
          "nan_count": 0,
          "categories": [
           {
            "name": "",
            "count": 16
           },
           {
            "name": " ",
            "count": 2
           },
           {
            "name": "226 others",
            "count": 226
           }
          ]
         }
        },
        {
         "name": "Continent",
         "dtype": "object",
         "stats": {
          "unique_count": 8,
          "nan_count": 0,
          "categories": [
           {
            "name": "Africa",
            "count": 60
           },
           {
            "name": "Asia",
            "count": 51
           },
           {
            "name": "6 others",
            "count": 133
           }
          ]
         }
        },
        {
         "name": "1 Caseevery X ppl",
         "dtype": "object",
         "stats": {
          "unique_count": 101,
          "nan_count": 0,
          "categories": [
           {
            "name": "3",
            "count": 24
           },
           {
            "name": "2",
            "count": 21
           },
           {
            "name": "99 others",
            "count": 199
           }
          ]
         }
        },
        {
         "name": "1 Deathevery X ppl",
         "dtype": "object",
         "stats": {
          "unique_count": 213,
          "nan_count": 0,
          "categories": [
           {
            "name": "",
            "count": 26
           },
           {
            "name": "387",
            "count": 2
           },
           {
            "name": "211 others",
            "count": 216
           }
          ]
         }
        },
        {
         "name": "1 Testevery X ppl",
         "dtype": "object",
         "stats": {
          "unique_count": 42,
          "nan_count": 0,
          "categories": [
           {
            "name": "0",
            "count": 57
           },
           {
            "name": "1",
            "count": 55
           },
           {
            "name": "40 others",
            "count": 132
           }
          ]
         }
        },
        {
         "name": "New Cases/1M pop",
         "dtype": "object",
         "stats": {
          "unique_count": 39,
          "nan_count": 0,
          "categories": [
           {
            "name": "",
            "count": 202
           },
           {
            "name": "35",
            "count": 2
           },
           {
            "name": "37 others",
            "count": 40
           }
          ]
         }
        },
        {
         "name": "New Deaths/1M pop",
         "dtype": "object",
         "stats": {
          "unique_count": 12,
          "nan_count": 0,
          "categories": [
           {
            "name": "",
            "count": 223
           },
           {
            "name": "1",
            "count": 5
           },
           {
            "name": "10 others",
            "count": 16
           }
          ]
         }
        },
        {
         "name": "Active Cases/1M pop",
         "dtype": "object",
         "stats": {
          "unique_count": 200,
          "nan_count": 0,
          "categories": [
           {
            "name": "",
            "count": 24
           },
           {
            "name": "3",
            "count": 6
           },
           {
            "name": "198 others",
            "count": 214
           }
          ]
         }
        },
        {
         "name": "_deepnote_index_column",
         "dtype": "int64"
        }
       ],
       "rows": [
        {
         "#": "",
         "Country,Other": "\nNorth America\n",
         "TotalCases": "99,584,072",
         "NewCases": "",
         "TotalDeaths": "1,467,096",
         "NewDeaths": "",
         "TotalRecovered": "94,782,140",
         "NewRecovered": "+2,147",
         "ActiveCases": "3,334,836",
         "Serious,Critical": "7,455",
         "Tot Cases/1M pop": "",
         "Deaths/1M pop": "",
         "TotalTests": "",
         "Tests/\n1M pop": "",
         "Population": "",
         "Continent": "North America",
         "1 Caseevery X ppl": "\n",
         "1 Deathevery X ppl": "",
         "1 Testevery X ppl": "",
         "New Cases/1M pop": "",
         "New Deaths/1M pop": "",
         "Active Cases/1M pop": "",
         "_deepnote_index_column": 0
        },
        {
         "#": "",
         "Country,Other": "\nAsia\n",
         "TotalCases": "149,831,185",
         "NewCases": "+143,907",
         "TotalDeaths": "1,427,739",
         "NewDeaths": "+199",
         "TotalRecovered": "127,062,164",
         "NewRecovered": "+53,804",
         "ActiveCases": "21,341,282",
         "Serious,Critical": "11,814",
         "Tot Cases/1M pop": "",
         "Deaths/1M pop": "",
         "TotalTests": "",
         "Tests/\n1M pop": "",
         "Population": "",
         "Continent": "Asia",
         "1 Caseevery X ppl": "\n",
         "1 Deathevery X ppl": "",
         "1 Testevery X ppl": "",
         "New Cases/1M pop": "",
         "New Deaths/1M pop": "",
         "Active Cases/1M pop": "",
         "_deepnote_index_column": 1
        },
        {
         "#": "",
         "Country,Other": "\nSouth America\n",
         "TotalCases": "57,109,078",
         "NewCases": "+89",
         "TotalDeaths": "1,296,381",
         "NewDeaths": "",
         "TotalRecovered": "53,182,037",
         "NewRecovered": "+198",
         "ActiveCases": "2,630,660",
         "Serious,Critical": "10,681",
         "Tot Cases/1M pop": "",
         "Deaths/1M pop": "",
         "TotalTests": "",
         "Tests/\n1M pop": "",
         "Population": "",
         "Continent": "South America",
         "1 Caseevery X ppl": "\n",
         "1 Deathevery X ppl": "",
         "1 Testevery X ppl": "",
         "New Cases/1M pop": "",
         "New Deaths/1M pop": "",
         "Active Cases/1M pop": "",
         "_deepnote_index_column": 2
        },
        {
         "#": "",
         "Country,Other": "\nEurope\n",
         "TotalCases": "194,080,716",
         "NewCases": "+53,487",
         "TotalDeaths": "1,830,151",
         "NewDeaths": "+265",
         "TotalRecovered": "181,507,957",
         "NewRecovered": "+75,080",
         "ActiveCases": "10,742,608",
         "Serious,Critical": "8,057",
         "Tot Cases/1M pop": "",
         "Deaths/1M pop": "",
         "TotalTests": "",
         "Tests/\n1M pop": "",
         "Population": "",
         "Continent": "Europe",
         "1 Caseevery X ppl": "\n",
         "1 Deathevery X ppl": "",
         "1 Testevery X ppl": "",
         "New Cases/1M pop": "",
         "New Deaths/1M pop": "",
         "Active Cases/1M pop": "",
         "_deepnote_index_column": 3
        },
        {
         "#": "",
         "Country,Other": "\nOceania\n",
         "TotalCases": "7,895,149",
         "NewCases": "+57,557",
         "TotalDeaths": "11,374",
         "NewDeaths": "+65",
         "TotalRecovered": "7,353,593",
         "NewRecovered": "+6,804",
         "ActiveCases": "530,182",
         "Serious,Critical": "155",
         "Tot Cases/1M pop": "",
         "Deaths/1M pop": "",
         "TotalTests": "",
         "Tests/\n1M pop": "",
         "Population": "",
         "Continent": "Australia/Oceania",
         "1 Caseevery X ppl": "\n",
         "1 Deathevery X ppl": "",
         "1 Testevery X ppl": "",
         "New Cases/1M pop": "",
         "New Deaths/1M pop": "",
         "Active Cases/1M pop": "",
         "_deepnote_index_column": 4
        },
        {
         "#": "",
         "Country,Other": "\nAfrica\n",
         "TotalCases": "12,033,089",
         "NewCases": "+3",
         "TotalDeaths": "254,308",
         "NewDeaths": "",
         "TotalRecovered": "11,203,627",
         "NewRecovered": "+5",
         "ActiveCases": "575,154",
         "Serious,Critical": "966",
         "Tot Cases/1M pop": "",
         "Deaths/1M pop": "",
         "TotalTests": "",
         "Tests/\n1M pop": "",
         "Population": "",
         "Continent": "Africa",
         "1 Caseevery X ppl": "\n",
         "1 Deathevery X ppl": "",
         "1 Testevery X ppl": "",
         "New Cases/1M pop": "",
         "New Deaths/1M pop": "",
         "Active Cases/1M pop": "",
         "_deepnote_index_column": 5
        },
        {
         "#": "",
         "Country,Other": "\n\n",
         "TotalCases": "721",
         "NewCases": "",
         "TotalDeaths": "15",
         "NewDeaths": "",
         "TotalRecovered": "706",
         "NewRecovered": "",
         "ActiveCases": "0",
         "Serious,Critical": "0",
         "Tot Cases/1M pop": "",
         "Deaths/1M pop": "",
         "TotalTests": "",
         "Tests/\n1M pop": "",
         "Population": "",
         "Continent": "",
         "1 Caseevery X ppl": "\n",
         "1 Deathevery X ppl": "",
         "1 Testevery X ppl": "",
         "New Cases/1M pop": "",
         "New Deaths/1M pop": "",
         "Active Cases/1M pop": "",
         "_deepnote_index_column": 6
        },
        {
         "#": "",
         "Country,Other": "World",
         "TotalCases": "520,534,010",
         "NewCases": "+255,043",
         "TotalDeaths": "6,287,064",
         "NewDeaths": "+529",
         "TotalRecovered": "475,092,224",
         "NewRecovered": "+138,038",
         "ActiveCases": "39,154,722",
         "Serious,Critical": "39,128",
         "Tot Cases/1M pop": "66,780",
         "Deaths/1M pop": "806.6",
         "TotalTests": "",
         "Tests/\n1M pop": "",
         "Population": "",
         "Continent": "All",
         "1 Caseevery X ppl": "\n",
         "1 Deathevery X ppl": "",
         "1 Testevery X ppl": "",
         "New Cases/1M pop": "",
         "New Deaths/1M pop": "",
         "Active Cases/1M pop": "",
         "_deepnote_index_column": 7
        },
        {
         "#": "1",
         "Country,Other": "USA",
         "TotalCases": "84,174,521",
         "NewCases": "",
         "TotalDeaths": "1,026,527 ",
         "NewDeaths": "",
         "TotalRecovered": "81,207,081",
         "NewRecovered": "+2,147",
         "ActiveCases": "1,940,913",
         "Serious,Critical": "1,936",
         "Tot Cases/1M pop": "251,558",
         "Deaths/1M pop": "3,068",
         "TotalTests": "1,016,652,419",
         "Tests/\n1M pop": "3,038,299",
         "Population": "334,612,330 ",
         "Continent": "North America",
         "1 Caseevery X ppl": "4",
         "1 Deathevery X ppl": "326",
         "1 Testevery X ppl": "0",
         "New Cases/1M pop": "",
         "New Deaths/1M pop": "",
         "Active Cases/1M pop": "5,800",
         "_deepnote_index_column": 8
        },
        {
         "#": "2",
         "Country,Other": "India",
         "TotalCases": "43,119,112",
         "NewCases": "",
         "TotalDeaths": "524,201 ",
         "NewDeaths": "",
         "TotalRecovered": "42,576,815",
         "NewRecovered": "",
         "ActiveCases": "18,096",
         "Serious,Critical": "698",
         "Tot Cases/1M pop": "30,685",
         "Deaths/1M pop": "373",
         "TotalTests": "842,944,795",
         "Tests/\n1M pop": "599,860",
         "Population": "1,405,235,993 ",
         "Continent": "Asia",
         "1 Caseevery X ppl": "33",
         "1 Deathevery X ppl": "2,681",
         "1 Testevery X ppl": "2",
         "New Cases/1M pop": "",
         "New Deaths/1M pop": "",
         "Active Cases/1M pop": "13",
         "_deepnote_index_column": 9
        }
       ]
      },
      "text/plain": "    #       Country,Other   TotalCases  NewCases TotalDeaths NewDeaths  \\\n0       \\nNorth America\\n   99,584,072             1,467,096             \n1                \\nAsia\\n  149,831,185  +143,907   1,427,739      +199   \n2       \\nSouth America\\n   57,109,078       +89   1,296,381             \n3              \\nEurope\\n  194,080,716   +53,487   1,830,151      +265   \n4             \\nOceania\\n    7,895,149   +57,557      11,374       +65   \n..  ..                ...          ...       ...         ...       ...   \n239                Total:  194,080,716   +53,487   1,830,151      +265   \n240                Total:    7,895,149   +57,557      11,374       +65   \n241                Total:   12,033,089        +3     254,308             \n242                Total:          721                    15             \n243                Total:  520,534,010  +255,043   6,287,064      +529   \n\n    TotalRecovered NewRecovered ActiveCases Serious,Critical  ... TotalTests  \\\n0       94,782,140       +2,147   3,334,836            7,455  ...              \n1      127,062,164      +53,804  21,341,282           11,814  ...              \n2       53,182,037         +198   2,630,660           10,681  ...              \n3      181,507,957      +75,080  10,742,608            8,057  ...              \n4        7,353,593       +6,804     530,182              155  ...              \n..             ...          ...         ...              ...  ...        ...   \n239    181,507,957      +75,080  10,742,608            8,057  ...              \n240      7,353,593       +6,804     530,182              155  ...              \n241     11,203,627                  575,154              966  ...              \n242            706                        0                0  ...              \n243    475,092,224     +138,038  39,154,722           39,128  ...              \n\n    Tests/\\n1M pop Population          Continent 1 Caseevery X ppl  \\\n0                                  North America                \\n   \n1                                           Asia                \\n   \n2                                  South America                \\n   \n3                                         Europe                \\n   \n4                              Australia/Oceania                \\n   \n..             ...        ...                ...               ...   \n239                                       Europe                     \n240                            Australia/Oceania                     \n241                                       Africa                     \n242                                                                  \n243                                          All                \\n   \n\n    1 Deathevery X ppl 1 Testevery X ppl New Cases/1M pop New Deaths/1M pop  \\\n0                                                                             \n1                                                                             \n2                                                                             \n3                                                                             \n4                                                                             \n..                 ...               ...              ...               ...   \n239                                                                           \n240                                                                           \n241                                                                           \n242                                                                           \n243                                                                           \n\n    Active Cases/1M pop  \n0                        \n1                        \n2                        \n3                        \n4                        \n..                  ...  \n239                      \n240                      \n241                      \n242                      \n243                      \n\n[244 rows x 22 columns]",
      "text/html": "<div>\n<style scoped>\n    .dataframe tbody tr th:only-of-type {\n        vertical-align: middle;\n    }\n\n    .dataframe tbody tr th {\n        vertical-align: top;\n    }\n\n    .dataframe thead th {\n        text-align: right;\n    }\n</style>\n<table border=\"1\" class=\"dataframe\">\n  <thead>\n    <tr style=\"text-align: right;\">\n      <th></th>\n      <th>#</th>\n      <th>Country,Other</th>\n      <th>TotalCases</th>\n      <th>NewCases</th>\n      <th>TotalDeaths</th>\n      <th>NewDeaths</th>\n      <th>TotalRecovered</th>\n      <th>NewRecovered</th>\n      <th>ActiveCases</th>\n      <th>Serious,Critical</th>\n      <th>...</th>\n      <th>TotalTests</th>\n      <th>Tests/\\n1M pop</th>\n      <th>Population</th>\n      <th>Continent</th>\n      <th>1 Caseevery X ppl</th>\n      <th>1 Deathevery X ppl</th>\n      <th>1 Testevery X ppl</th>\n      <th>New Cases/1M pop</th>\n      <th>New Deaths/1M pop</th>\n      <th>Active Cases/1M pop</th>\n    </tr>\n  </thead>\n  <tbody>\n    <tr>\n      <th>0</th>\n      <td></td>\n      <td>\\nNorth America\\n</td>\n      <td>99,584,072</td>\n      <td></td>\n      <td>1,467,096</td>\n      <td></td>\n      <td>94,782,140</td>\n      <td>+2,147</td>\n      <td>3,334,836</td>\n      <td>7,455</td>\n      <td>...</td>\n      <td></td>\n      <td></td>\n      <td></td>\n      <td>North America</td>\n      <td>\\n</td>\n      <td></td>\n      <td></td>\n      <td></td>\n      <td></td>\n      <td></td>\n    </tr>\n    <tr>\n      <th>1</th>\n      <td></td>\n      <td>\\nAsia\\n</td>\n      <td>149,831,185</td>\n      <td>+143,907</td>\n      <td>1,427,739</td>\n      <td>+199</td>\n      <td>127,062,164</td>\n      <td>+53,804</td>\n      <td>21,341,282</td>\n      <td>11,814</td>\n      <td>...</td>\n      <td></td>\n      <td></td>\n      <td></td>\n      <td>Asia</td>\n      <td>\\n</td>\n      <td></td>\n      <td></td>\n      <td></td>\n      <td></td>\n      <td></td>\n    </tr>\n    <tr>\n      <th>2</th>\n      <td></td>\n      <td>\\nSouth America\\n</td>\n      <td>57,109,078</td>\n      <td>+89</td>\n      <td>1,296,381</td>\n      <td></td>\n      <td>53,182,037</td>\n      <td>+198</td>\n      <td>2,630,660</td>\n      <td>10,681</td>\n      <td>...</td>\n      <td></td>\n      <td></td>\n      <td></td>\n      <td>South America</td>\n      <td>\\n</td>\n      <td></td>\n      <td></td>\n      <td></td>\n      <td></td>\n      <td></td>\n    </tr>\n    <tr>\n      <th>3</th>\n      <td></td>\n      <td>\\nEurope\\n</td>\n      <td>194,080,716</td>\n      <td>+53,487</td>\n      <td>1,830,151</td>\n      <td>+265</td>\n      <td>181,507,957</td>\n      <td>+75,080</td>\n      <td>10,742,608</td>\n      <td>8,057</td>\n      <td>...</td>\n      <td></td>\n      <td></td>\n      <td></td>\n      <td>Europe</td>\n      <td>\\n</td>\n      <td></td>\n      <td></td>\n      <td></td>\n      <td></td>\n      <td></td>\n    </tr>\n    <tr>\n      <th>4</th>\n      <td></td>\n      <td>\\nOceania\\n</td>\n      <td>7,895,149</td>\n      <td>+57,557</td>\n      <td>11,374</td>\n      <td>+65</td>\n      <td>7,353,593</td>\n      <td>+6,804</td>\n      <td>530,182</td>\n      <td>155</td>\n      <td>...</td>\n      <td></td>\n      <td></td>\n      <td></td>\n      <td>Australia/Oceania</td>\n      <td>\\n</td>\n      <td></td>\n      <td></td>\n      <td></td>\n      <td></td>\n      <td></td>\n    </tr>\n    <tr>\n      <th>...</th>\n      <td>...</td>\n      <td>...</td>\n      <td>...</td>\n      <td>...</td>\n      <td>...</td>\n      <td>...</td>\n      <td>...</td>\n      <td>...</td>\n      <td>...</td>\n      <td>...</td>\n      <td>...</td>\n      <td>...</td>\n      <td>...</td>\n      <td>...</td>\n      <td>...</td>\n      <td>...</td>\n      <td>...</td>\n      <td>...</td>\n      <td>...</td>\n      <td>...</td>\n      <td>...</td>\n    </tr>\n    <tr>\n      <th>239</th>\n      <td></td>\n      <td>Total:</td>\n      <td>194,080,716</td>\n      <td>+53,487</td>\n      <td>1,830,151</td>\n      <td>+265</td>\n      <td>181,507,957</td>\n      <td>+75,080</td>\n      <td>10,742,608</td>\n      <td>8,057</td>\n      <td>...</td>\n      <td></td>\n      <td></td>\n      <td></td>\n      <td>Europe</td>\n      <td></td>\n      <td></td>\n      <td></td>\n      <td></td>\n      <td></td>\n      <td></td>\n    </tr>\n    <tr>\n      <th>240</th>\n      <td></td>\n      <td>Total:</td>\n      <td>7,895,149</td>\n      <td>+57,557</td>\n      <td>11,374</td>\n      <td>+65</td>\n      <td>7,353,593</td>\n      <td>+6,804</td>\n      <td>530,182</td>\n      <td>155</td>\n      <td>...</td>\n      <td></td>\n      <td></td>\n      <td></td>\n      <td>Australia/Oceania</td>\n      <td></td>\n      <td></td>\n      <td></td>\n      <td></td>\n      <td></td>\n      <td></td>\n    </tr>\n    <tr>\n      <th>241</th>\n      <td></td>\n      <td>Total:</td>\n      <td>12,033,089</td>\n      <td>+3</td>\n      <td>254,308</td>\n      <td></td>\n      <td>11,203,627</td>\n      <td></td>\n      <td>575,154</td>\n      <td>966</td>\n      <td>...</td>\n      <td></td>\n      <td></td>\n      <td></td>\n      <td>Africa</td>\n      <td></td>\n      <td></td>\n      <td></td>\n      <td></td>\n      <td></td>\n      <td></td>\n    </tr>\n    <tr>\n      <th>242</th>\n      <td></td>\n      <td>Total:</td>\n      <td>721</td>\n      <td></td>\n      <td>15</td>\n      <td></td>\n      <td>706</td>\n      <td></td>\n      <td>0</td>\n      <td>0</td>\n      <td>...</td>\n      <td></td>\n      <td></td>\n      <td></td>\n      <td></td>\n      <td></td>\n      <td></td>\n      <td></td>\n      <td></td>\n      <td></td>\n      <td></td>\n    </tr>\n    <tr>\n      <th>243</th>\n      <td></td>\n      <td>Total:</td>\n      <td>520,534,010</td>\n      <td>+255,043</td>\n      <td>6,287,064</td>\n      <td>+529</td>\n      <td>475,092,224</td>\n      <td>+138,038</td>\n      <td>39,154,722</td>\n      <td>39,128</td>\n      <td>...</td>\n      <td></td>\n      <td></td>\n      <td></td>\n      <td>All</td>\n      <td>\\n</td>\n      <td></td>\n      <td></td>\n      <td></td>\n      <td></td>\n      <td></td>\n    </tr>\n  </tbody>\n</table>\n<p>244 rows × 22 columns</p>\n</div>"
     },
     "metadata": {}
    }
   ]
  },
  {
   "cell_type": "code",
   "metadata": {
    "cell_id": "b5c6dcfd0cd54c3caf25b9e74c50016c",
    "tags": [],
    "deepnote_cell_type": "code",
    "deepnote_cell_height": 66
   },
   "source": "",
   "execution_count": null,
   "outputs": []
  },
  {
   "cell_type": "markdown",
   "source": "<a style='text-decoration:none;line-height:16px;display:flex;color:#5B5B62;padding:10px;justify-content:end;' href='https://deepnote.com?utm_source=created-in-deepnote-cell&projectId=2b5e137d-eb0f-4820-b583-73511cc204aa' target=\"_blank\">\n<img alt='Created in deepnote.com' style='display:inline;max-height:16px;margin:0px;margin-right:7.5px;' src='data:image/svg+xml;base64,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' > </img>\nCreated in <span style='font-weight:600;margin-left:4px;'>Deepnote</span></a>",
   "metadata": {
    "tags": [],
    "created_in_deepnote_cell": true,
    "deepnote_cell_type": "markdown"
   }
  }
 ],
 "nbformat": 4,
 "nbformat_minor": 2,
 "metadata": {
  "orig_nbformat": 2,
  "deepnote": {},
  "deepnote_notebook_id": "4749b805-76a5-4801-b75a-855b77fd0bc5",
  "deepnote_execution_queue": []
 }
}